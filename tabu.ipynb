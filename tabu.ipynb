{
 "cells": [
  {
   "cell_type": "code",
   "execution_count": 1,
   "metadata": {},
   "outputs": [],
   "source": [
    "import numpy as np"
   ]
  },
  {
   "cell_type": "code",
   "execution_count": 41,
   "metadata": {},
   "outputs": [
    {
     "data": {
      "text/plain": [
       "array([ 0,  1,  2,  3,  4,  5,  6,  7,  8,  9, 10])"
      ]
     },
     "execution_count": 41,
     "metadata": {},
     "output_type": "execute_result"
    }
   ],
   "source": [
    "numara = np.arange(11)\n",
    "numara"
   ]
  },
  {
   "cell_type": "code",
   "execution_count": 42,
   "metadata": {},
   "outputs": [
    {
     "data": {
      "text/plain": [
       "array([ 8, 10,  6,  3,  7,  2,  4,  0,  9,  5,  1])"
      ]
     },
     "execution_count": 42,
     "metadata": {},
     "output_type": "execute_result"
    }
   ],
   "source": [
    "np.random.shuffle(numara)\n",
    "numara"
   ]
  },
  {
   "cell_type": "code",
   "execution_count": 53,
   "metadata": {},
   "outputs": [
    {
     "data": {
      "text/plain": [
       "array([ 1, 10])"
      ]
     },
     "execution_count": 53,
     "metadata": {},
     "output_type": "execute_result"
    }
   ],
   "source": [
    "degistir = np.random.randint(1,11,2)\n",
    "degistir"
   ]
  },
  {
   "cell_type": "code",
   "execution_count": 55,
   "metadata": {},
   "outputs": [
    {
     "data": {
      "text/plain": [
       "10"
      ]
     },
     "execution_count": 55,
     "metadata": {},
     "output_type": "execute_result"
    }
   ],
   "source": [
    "degistir[1]"
   ]
  },
  {
   "cell_type": "code",
   "execution_count": 127,
   "metadata": {},
   "outputs": [
    {
     "data": {
      "text/plain": [
       "array([ 8, 10,  6,  3,  7,  2,  4,  0,  9,  5,  1])"
      ]
     },
     "execution_count": 127,
     "metadata": {},
     "output_type": "execute_result"
    }
   ],
   "source": [
    "numara"
   ]
  },
  {
   "cell_type": "code",
   "execution_count": 128,
   "metadata": {},
   "outputs": [
    {
     "data": {
      "text/plain": [
       "array([ 1, 10])"
      ]
     },
     "execution_count": 128,
     "metadata": {},
     "output_type": "execute_result"
    }
   ],
   "source": [
    "degistir"
   ]
  },
  {
   "cell_type": "code",
   "execution_count": null,
   "metadata": {},
   "outputs": [],
   "source": [
    "numara[]"
   ]
  },
  {
   "cell_type": "code",
   "execution_count": null,
   "metadata": {},
   "outputs": [],
   "source": []
  },
  {
   "cell_type": "code",
   "execution_count": 67,
   "metadata": {},
   "outputs": [],
   "source": [
    "def yerDegistir(dizi1, dizi2):\n",
    "    for i in range(len(dizi2)):\n",
    "        for j in range(len(dizi1)):\n",
    "            if dizi2[i] == dizi1[j]:\n",
    "                temp = dizi1[j]\n",
    "                dizi1[j] = dizi2[i]\n",
    "                dizi2[i] = temp\n",
    "    return dizi1    "
   ]
  },
  {
   "cell_type": "code",
   "execution_count": 68,
   "metadata": {},
   "outputs": [
    {
     "name": "stdout",
     "output_type": "stream",
     "text": [
      "[ 8 10  6  3  7  2  4  0  9  5  1]\n",
      "[ 1 10]\n"
     ]
    }
   ],
   "source": [
    "yerDegistir(numara,degistir)\n",
    "print(numara)\n",
    "print(degistir)"
   ]
  },
  {
   "cell_type": "code",
   "execution_count": 17,
   "metadata": {},
   "outputs": [],
   "source": [
    "maliyet = np.array([np.random.randint(1,50,10) for i in range(10)])"
   ]
  },
  {
   "cell_type": "code",
   "execution_count": 18,
   "metadata": {
    "scrolled": true
   },
   "outputs": [
    {
     "data": {
      "text/plain": [
       "array([[12, 29, 34, 21, 33, 25, 45,  6,  5,  8],\n",
       "       [25, 25, 45, 35, 41, 16, 14, 25, 16,  7],\n",
       "       [22, 43, 23, 12, 49, 13, 29, 33, 16, 45],\n",
       "       [41, 43, 46, 44, 34, 46, 41, 26, 10, 38],\n",
       "       [ 1, 19, 24,  4, 30, 17, 21, 19, 49, 15],\n",
       "       [16, 18, 26, 47, 49, 43, 18, 33, 18, 42],\n",
       "       [17, 42, 27, 13, 31, 18, 18, 17,  1, 32],\n",
       "       [38, 10,  1, 39, 23, 33,  3,  4, 32, 36],\n",
       "       [28, 19, 14, 44, 49, 30, 46, 12, 23, 38],\n",
       "       [12, 22, 34, 32, 44, 25, 33, 38, 10, 41]])"
      ]
     },
     "execution_count": 18,
     "metadata": {},
     "output_type": "execute_result"
    }
   ],
   "source": [
    "maliyet"
   ]
  },
  {
   "cell_type": "code",
   "execution_count": 19,
   "metadata": {},
   "outputs": [
    {
     "data": {
      "text/plain": [
       "218"
      ]
     },
     "execution_count": 19,
     "metadata": {},
     "output_type": "execute_result"
    }
   ],
   "source": [
    "maliyet[0].sum()"
   ]
  },
  {
   "cell_type": "code",
   "execution_count": 20,
   "metadata": {},
   "outputs": [
    {
     "data": {
      "text/plain": [
       "array([6, 8])"
      ]
     },
     "execution_count": 20,
     "metadata": {},
     "output_type": "execute_result"
    }
   ],
   "source": [
    "tabuSuresi = 3\n",
    "maxIter = 10\n",
    "degistir = np.random.randint(1,10,2)\n",
    "degistir"
   ]
  },
  {
   "cell_type": "code",
   "execution_count": 21,
   "metadata": {},
   "outputs": [
    {
     "data": {
      "text/plain": [
       "[218, 249, 285, 369, 199, 310, 216, 219, 303, 291]"
      ]
     },
     "execution_count": 21,
     "metadata": {},
     "output_type": "execute_result"
    }
   ],
   "source": [
    "toplamlar = []\n",
    "for i in range(10):\n",
    "    toplamlar.append(maliyet[i].sum())\n",
    "toplamlar"
   ]
  },
  {
   "cell_type": "code",
   "execution_count": null,
   "metadata": {},
   "outputs": [],
   "source": [
    "def tabu():\n",
    "    for i in maxIter:\n",
    "        siralama = np.random.ranint(1,10,10)\n",
    "        enIyiCozum = siralama[i].sum()"
   ]
  },
  {
   "cell_type": "code",
   "execution_count": 60,
   "metadata": {},
   "outputs": [
    {
     "name": "stdout",
     "output_type": "stream",
     "text": [
      "0 [6 8 1 9 7 7 1 9 1 8] 56\n",
      "1 [5 7 6 5 1 7 8 9 7 7] 42\n",
      "2 [7 2 4 5 3 2 6 5 1 6] 65\n",
      "3 [6 4 9 3 1 9 4 5 4 9] 45\n",
      "4 [6 7 3 7 7 1 7 2 1 8] 37\n",
      "5 [9 4 7 5 8 8 2 3 4 4] 38\n",
      "6 [3 2 2 7 7 5 9 6 3 5] 37\n",
      "7 [9 9 8 5 4 7 6 1 4 2] 53\n",
      "8 [9 4 4 4 9 6 3 5 3 2] 49\n",
      "9 [1 4 7 5 4 6 1 8 4 9] 63\n"
     ]
    },
    {
     "data": {
      "text/plain": [
       "63"
      ]
     },
     "execution_count": 60,
     "metadata": {},
     "output_type": "execute_result"
    }
   ],
   "source": [
    "for i in range(maxIter):\n",
    "    siralama = np.random.randint(1,10,10)\n",
    "    for j in siralama:\n",
    "        maliyet[siralama[i][j]] \n",
    "    \n",
    "    print(i , siralama, matris[i].sum())\n",
    "\n",
    "    enIyiCozum = matris[i].sum()\n",
    "enIyiCozum"
   ]
  },
  {
   "cell_type": "code",
   "execution_count": 125,
   "metadata": {},
   "outputs": [],
   "source": [
    "a = [1,2,3,4]\n",
    "b = [2,4]"
   ]
  },
  {
   "cell_type": "code",
   "execution_count": 123,
   "metadata": {},
   "outputs": [
    {
     "data": {
      "text/plain": [
       "3"
      ]
     },
     "execution_count": 123,
     "metadata": {},
     "output_type": "execute_result"
    }
   ],
   "source": [
    "a.index(b[1])"
   ]
  },
  {
   "cell_type": "code",
   "execution_count": 126,
   "metadata": {},
   "outputs": [
    {
     "name": "stdout",
     "output_type": "stream",
     "text": [
      "[1, 2, 3, 4]\n"
     ]
    }
   ],
   "source": [
    "for i in range(len(a)):\n",
    "    if a[i] == b[0]:\n",
    "        temp1 = a[i]\n",
    "        a[i] = b[1]\n",
    "        if a[i] == b[1]:\n",
    "            temp2 = a[i]\n",
    "            a[i] = b[0]\n",
    "print(a)\n"
   ]
  },
  {
   "cell_type": "code",
   "execution_count": 144,
   "metadata": {},
   "outputs": [
    {
     "data": {
      "text/plain": [
       "array([[ 0. ,  3.6,  5.1, 10. , 15. , 20. , 16. , 14. , 23. , 26. ],\n",
       "       [ 3.6,  0. ,  3.6,  6.4, 12. , 18. , 13. , 11. , 20. , 23. ],\n",
       "       [ 5.1,  3.6,  0. ,  7.1, 11. , 15. , 16. , 11. , 18. , 22. ],\n",
       "       [10. ,  6.4,  7.1,  0. ,  7. , 16. , 10. ,  4.2, 14. , 17. ],\n",
       "       [15. , 12. , 11. ,  7. ,  0. ,  9.9, 15. ,  5. ,  7.8, 11. ],\n",
       "       [20. , 18. , 15. , 16. ,  9.9,  0. , 25. , 15. , 12. , 15. ],\n",
       "       [16. , 13. , 16. , 10. , 15. , 25. ,  0. , 10. , 19. , 21. ],\n",
       "       [14. , 11. , 11. ,  4.2,  5. , 15. , 10. ,  0. , 10. , 13. ],\n",
       "       [13. , 20. , 18. , 14. ,  7.8, 12. , 19. , 10. ,  0. ,  3.6],\n",
       "       [26. , 23. , 22. , 17. , 11. , 15. , 21. , 13. ,  3.6,  0. ]])"
      ]
     },
     "execution_count": 144,
     "metadata": {},
     "output_type": "execute_result"
    }
   ],
   "source": [
    "np.array([[0,3.6,5.1,10,15,20,16,14,23,26],[3.6,0,3.6,6.4,12,18,13,11,20,23],[5.1,3.6,0,7.1,11,15,16,11,18,22],\n",
    "          [10,6.4,7.1,0,7,16,10,4.2,14,17], [15,12,11,7,0,9.9,15,5,7.8,11],[20,18,15,16,9.9,0,25,15,12,15],\n",
    "         [16,13,16,10,15,25,0,10,19,21],[14,11,11,4.2,5,15,10,0,10,13],[23,20,18,14,7.8,12,19,10,0,3.6],\n",
    "         [26,23,22,17,11,15,21,13,3.6,0]])"
   ]
  },
  {
   "cell_type": "code",
   "execution_count": 150,
   "metadata": {},
   "outputs": [],
   "source": [
    "import numpy as np\n",
    "import heapq\n",
    "import time"
   ]
  },
  {
   "cell_type": "code",
   "execution_count": 162,
   "metadata": {},
   "outputs": [],
   "source": [
    "cities = [\n",
    "    [0, 3.6, 5.1, 10, 15, 20, 16, 14, 23, 26],\n",
    "    [3.6, 0, 3.6, 6.4, 12, 18, 13, 11, 20, 23],\n",
    "    [5.1, 3.6, 0, 7.1, 11, 15, 16, 11, 18, 22],\n",
    "    [10, 6.4, 7.1, 0, 7, 16, 10, 4.2, 14, 17],\n",
    "    [15, 12, 11, 7, 0, 9.9, 15, 5, 7.8, 11],\n",
    "    [20, 18, 15, 16, 9.9, 0, 25, 15, 12, 15],\n",
    "    [16, 13, 16, 10, 15, 25, 0, 10, 19, 21],\n",
    "    [14, 11, 11, 4.2, 5, 15, 10, 0, 10, 13],\n",
    "    [23, 20, 18, 14, 7.8, 12, 19, 10, 0, 3.6],\n",
    "    [26, 23, 22, 17, 11, 15, 21, 13, 3.6, 0]\n",
    "]"
   ]
  },
  {
   "cell_type": "code",
   "execution_count": 227,
   "metadata": {},
   "outputs": [],
   "source": [
    "def fitness(cozum):\n",
    "    s = 0\n",
    "    cd = list(cozum).copy()\n",
    "    for i in range(len(cozum) - 1):\n",
    "        s += cities[cd[i]][cd[i+1]]\n",
    "    return s\n",
    "# maliyeti hesaplıyor"
   ]
  },
  {
   "cell_type": "code",
   "execution_count": 164,
   "metadata": {},
   "outputs": [],
   "source": [
    "def get_neighbors(cozum):\n",
    "    neighbors = []\n",
    "    cozum = list(cozum)\n",
    "    for i in range(len(cozum) - 1):\n",
    "        cnew = cozum.copy()\n",
    "        cnew[i], cnew[i+1] = cnew[i+1], cnew[i]\n",
    "        neighbors.append(cnew)\n",
    "    return neighbors\n",
    "# gelen cozumeden komsuluk matrisi olusturuyor"
   ]
  },
  {
   "cell_type": "code",
   "execution_count": 165,
   "metadata": {},
   "outputs": [],
   "source": [
    "def rassal_cozum_uret():\n",
    "    bazCozum = list(range(10))\n",
    "    ornekCozum = bazCozum.copy()\n",
    "    np.random.shuffle(ornekCozum)\n",
    "    ornekCozum = list(ornekCozum)\n",
    "    return ornekCozum"
   ]
  },
  {
   "cell_type": "code",
   "execution_count": 185,
   "metadata": {},
   "outputs": [
    {
     "data": {
      "text/plain": [
       "[1, 7, 6, 4, 8, 3, 2, 9, 5, 0]"
      ]
     },
     "execution_count": 185,
     "metadata": {},
     "output_type": "execute_result"
    }
   ],
   "source": [
    "rassal_cozum_uret()"
   ]
  },
  {
   "cell_type": "code",
   "execution_count": 222,
   "metadata": {},
   "outputs": [
    {
     "data": {
      "text/plain": [
       "[[7, 1, 6, 4, 8, 3, 2, 9, 5, 0],\n",
       " [1, 6, 7, 4, 8, 3, 2, 9, 5, 0],\n",
       " [1, 7, 4, 6, 8, 3, 2, 9, 5, 0],\n",
       " [1, 7, 6, 8, 4, 3, 2, 9, 5, 0],\n",
       " [1, 7, 6, 4, 3, 8, 2, 9, 5, 0],\n",
       " [1, 7, 6, 4, 8, 2, 3, 9, 5, 0],\n",
       " [1, 7, 6, 4, 8, 3, 9, 2, 5, 0],\n",
       " [1, 7, 6, 4, 8, 3, 2, 5, 9, 0],\n",
       " [1, 7, 6, 4, 8, 3, 2, 9, 0, 5]]"
      ]
     },
     "execution_count": 222,
     "metadata": {},
     "output_type": "execute_result"
    }
   ],
   "source": [
    "get_neighbors([1, 7, 6, 4, 8, 3, 2, 9, 5, 0])"
   ]
  },
  {
   "cell_type": "code",
   "execution_count": 231,
   "metadata": {},
   "outputs": [
    {
     "name": "stdout",
     "output_type": "stream",
     "text": [
      "128.5 [7, 8, 6, 5, 4, 1, 0, 3, 9, 2]\n",
      "115.5 [7, 6, 8, 5, 4, 1, 0, 3, 9, 2]\n",
      "105.6 [7, 6, 8, 5, 4, 1, 0, 3, 2, 9]\n",
      "95.69999999999999 [7, 6, 8, 5, 4, 1, 0, 2, 3, 9]\n",
      "86.7 [6, 7, 8, 5, 4, 1, 0, 2, 3, 9]\n",
      "84.19999999999999 [1, 0, 7, 9, 8, 5, 4, 2, 3, 6]\n",
      "81.19999999999999 [0, 1, 7, 9, 8, 5, 4, 2, 3, 6]\n",
      "81.0 [9, 4, 6, 1, 0, 2, 3, 7, 8, 5]\n",
      "78.29999999999998 [7, 4, 5, 9, 8, 6, 3, 2, 0, 1]\n",
      "76.79999999999998 [7, 4, 5, 9, 8, 6, 3, 2, 1, 0]\n",
      "75.79999999999998 [7, 4, 5, 8, 9, 6, 3, 2, 1, 0]\n",
      "75.3 [5, 9, 8, 4, 6, 3, 7, 1, 0, 2]\n",
      "70.7 [5, 9, 8, 4, 6, 7, 3, 1, 0, 2]\n",
      "66.5 [5, 9, 8, 4, 7, 6, 3, 1, 0, 2]\n",
      "65.7 [5, 9, 8, 4, 7, 6, 3, 2, 1, 0]\n"
     ]
    }
   ],
   "source": [
    "bazCozum = list(range(10))\n",
    "ornekCozum = bazCozum.copy()\n",
    "np.random.shuffle(ornekCozum)\n",
    "ornekCozum = list(ornekCozum)\n",
    "\n",
    "sBest = ornekCozum.copy()\n",
    "bestCandidate = ornekCozum.copy()\n",
    "tabuList = []\n",
    "maxtabu = 200\n",
    "s0 = sBest\n",
    "heapq.heappush(tabuList, (time.time(), s0))\n",
    "cost = float('inf')\n",
    "control = True\n",
    "PATIENCE = 1000\n",
    "sabir = 0\n",
    "\n",
    "while True:\n",
    "    if not control:\n",
    "        bestCandidate = rassal_cozum_uret()\n",
    "    \n",
    "    sNeihborhood = get_neighbors(bestCandidate)\n",
    "    bestCandidate = sNeihborhood[0]\n",
    "    \n",
    "    control = False\n",
    "    for sCandidate in sNeihborhood:\n",
    "        if not (sCandidate in [i[1] for i in tabuList]) and (fitness(sCandidate) < fitness(bestCandidate)):\n",
    "            control = True\n",
    "            bestCandidate = sCandidate\n",
    "            \n",
    "            \n",
    "    if fitness(bestCandidate) < fitness(sBest):\n",
    "        sBest = bestCandidate\n",
    "        cost = fitness(sBest)\n",
    "        print(cost ,sBest)\n",
    "        #print(get_neighbors(bestCandidate))\n",
    "        sabir = 0\n",
    "    else:\n",
    "        sabir += 1\n",
    "        \n",
    "    if sabir >= PATIENCE:\n",
    "        break\n",
    "        \n",
    "    heapq.heappush(tabuList, (time.time(), bestCandidate))\n",
    "    if len(tabuList) > maxtabu:\n",
    "        heapq.heappop(tabuList)"
   ]
  },
  {
   "cell_type": "code",
   "execution_count": 187,
   "metadata": {},
   "outputs": [
    {
     "data": {
      "text/plain": [
       "108.9"
      ]
     },
     "execution_count": 187,
     "metadata": {},
     "output_type": "execute_result"
    }
   ],
   "source": [
    "fitness([9    , 2   ,  1   ,  3     ,4  ,   5   ,  7  ,   8   ,  6    , 0])"
   ]
  },
  {
   "cell_type": "code",
   "execution_count": null,
   "metadata": {},
   "outputs": [],
   "source": []
  }
 ],
 "metadata": {
  "kernelspec": {
   "display_name": "Python 3",
   "language": "python",
   "name": "python3"
  },
  "language_info": {
   "codemirror_mode": {
    "name": "ipython",
    "version": 3
   },
   "file_extension": ".py",
   "mimetype": "text/x-python",
   "name": "python",
   "nbconvert_exporter": "python",
   "pygments_lexer": "ipython3",
   "version": "3.7.3"
  }
 },
 "nbformat": 4,
 "nbformat_minor": 2
}
