{
 "cells": [
  {
   "attachments": {
    "image-2.png": {
     "image/png": "[encoded data removed]"
    },
    "image-3.png": {
     "image/png": "[encoded data removed]"
    },
    "image.png": {
     "image/png": "[encoded data removed]"
    }
   },
   "cell_type": "markdown",
   "id": "e645ea9b",
   "metadata": {},
   "source": [
    "## A Blending Problem\n",
    "\n",
    "### Problem Description\n",
    "Whiskas cat food, shown above, is manufactured by Uncle Ben’s. Uncle Ben’s want to produce their cat food products as cheaply as possible while ensuring they meet the stated nutritional analysis requirements shown on the cans. Thus they want to vary the quantities of each ingredient used (the main ingredients being chicken, beef, mutton, rice, wheat and gel) while still meeting their nutritional standards.\n",
    "\n",
    "The costs of the chicken, beef, and mutton are $0.013, \\$0.008 and $0.010 respectively, while the costs of the rice, wheat and gel are \\$0.002, $0.005 and \\$0.001 respectively. (All costs are per gram.) For this exercise we will ignore the vitamin and mineral ingredients. (Any costs for these are likely to be very small anyway.)\n",
    "\n",
    "Each ingredient contributes to the total weight of protein, fat, fibre and salt in the final product. The contributions (in grams) per gram of ingredient are given in the table below.\n",
    "\n",
    "![image.png](attachment:image.png)\n",
    "\n",
    "#### Simplified Formulation\n",
    "First we will consider a simplified problem to build a simple Python model.\n",
    "\n",
    "#### Identify the Decision Variables\n",
    "Assume Whiskas want to make their cat food out of just two ingredients: Chicken and Beef. We will first define our decision variables:\n",
    "\n",
    "![image-2.png](attachment:image-2.png)\n",
    "\n",
    "The limitations on these variables (greater than zero) must be noted but for the Python implementation, they are not entered or listed separately or with the other constraints.\n",
    "\n",
    "#### The Constraints\n",
    "\n",
    "![image-3.png](attachment:image-3.png)"
   ]
  },
  {
   "cell_type": "markdown",
   "id": "583685c7",
   "metadata": {},
   "source": [
    "### Problem is minimum cost to produce cat food"
   ]
  },
  {
   "cell_type": "code",
   "execution_count": 4,
   "id": "1ef3dd1a",
   "metadata": {},
   "outputs": [],
   "source": [
    "import pulp as p\n",
    "import pandas as pd"
   ]
  },
  {
   "cell_type": "code",
   "execution_count": 77,
   "id": "91642e49",
   "metadata": {},
   "outputs": [],
   "source": [
    "# A dictionary of the costs of each of the Ingredients is created\n",
    "costs = {'CHICKEN': 0.013, 'BEEF': 0.008, \n",
    "         'MUTTON': 0.010, 'RICE': 0.002, \n",
    "         'WHEAT': 0.005, 'GEL': 0.001}\n",
    "\n",
    "# A dictionary of the protein percent in each of the Ingredients is created\n",
    "proteinPercent = {'CHICKEN': 0.100, 'BEEF': 0.200, \n",
    "                  'MUTTON': 0.150, 'RICE': 0.000, \n",
    "                  'WHEAT': 0.040, 'GEL': 0.000}\n",
    "\n",
    "# A dictionary of the fat percent in each of the Ingredients is created\n",
    "fatPercent = {'CHICKEN': 0.080, 'BEEF': 0.100, \n",
    "              'MUTTON': 0.110, 'RICE': 0.010, \n",
    "              'WHEAT': 0.010, 'GEL': 0.000}\n",
    "\n",
    "# A dictionary of the fibre percent in each of the Ingredients is created\n",
    "fibrePercent = {'CHICKEN': 0.001, 'BEEF': 0.005, \n",
    "                'MUTTON': 0.003, 'RICE': 0.100, \n",
    "                'WHEAT': 0.150, 'GEL': 0.000}\n",
    "\n",
    "# A dictionary of the salt percent in each of the Ingredients is created\n",
    "saltPercent = {'CHICKEN': 0.002, 'BEEF': 0.005, \n",
    "               'MUTTON': 0.007, 'RICE': 0.002, \n",
    "               'WHEAT': 0.008, 'GEL': 0.000}\n",
    "\n",
    "data = pd.DataFrame({'costs':costs,\n",
    "                     'proteinPercent': proteinPercent,\n",
    "                     'fatPercent': fatPercent,\n",
    "                     'fibrePercent': fibrePercent,\n",
    "                     'saltPercent': saltPercent})"
   ]
  },
  {
   "cell_type": "code",
   "execution_count": 78,
   "id": "90160d8a",
   "metadata": {},
   "outputs": [
    {
     "data": {
      "text/html": [
       "<div>\n",
       "<style scoped>\n",
       "    .dataframe tbody tr th:only-of-type {\n",
       "        vertical-align: middle;\n",
       "    }\n",
       "\n",
       "    .dataframe tbody tr th {\n",
       "        vertical-align: top;\n",
       "    }\n",
       "\n",
       "    .dataframe thead th {\n",
       "        text-align: right;\n",
       "    }\n",
       "</style>\n",
       "<table border=\"1\" class=\"dataframe\">\n",
       "  <thead>\n",
       "    <tr style=\"text-align: right;\">\n",
       "      <th></th>\n",
       "      <th>costs</th>\n",
       "      <th>proteinPercent</th>\n",
       "      <th>fatPercent</th>\n",
       "      <th>fibrePercent</th>\n",
       "      <th>saltPercent</th>\n",
       "    </tr>\n",
       "  </thead>\n",
       "  <tbody>\n",
       "    <tr>\n",
       "      <th>CHICKEN</th>\n",
       "      <td>0.013</td>\n",
       "      <td>0.10</td>\n",
       "      <td>0.08</td>\n",
       "      <td>0.001</td>\n",
       "      <td>0.002</td>\n",
       "    </tr>\n",
       "    <tr>\n",
       "      <th>BEEF</th>\n",
       "      <td>0.008</td>\n",
       "      <td>0.20</td>\n",
       "      <td>0.10</td>\n",
       "      <td>0.005</td>\n",
       "      <td>0.005</td>\n",
       "    </tr>\n",
       "    <tr>\n",
       "      <th>MUTTON</th>\n",
       "      <td>0.010</td>\n",
       "      <td>0.15</td>\n",
       "      <td>0.11</td>\n",
       "      <td>0.003</td>\n",
       "      <td>0.007</td>\n",
       "    </tr>\n",
       "    <tr>\n",
       "      <th>RICE</th>\n",
       "      <td>0.002</td>\n",
       "      <td>0.00</td>\n",
       "      <td>0.01</td>\n",
       "      <td>0.100</td>\n",
       "      <td>0.002</td>\n",
       "    </tr>\n",
       "    <tr>\n",
       "      <th>WHEAT</th>\n",
       "      <td>0.005</td>\n",
       "      <td>0.04</td>\n",
       "      <td>0.01</td>\n",
       "      <td>0.150</td>\n",
       "      <td>0.008</td>\n",
       "    </tr>\n",
       "    <tr>\n",
       "      <th>GEL</th>\n",
       "      <td>0.001</td>\n",
       "      <td>0.00</td>\n",
       "      <td>0.00</td>\n",
       "      <td>0.000</td>\n",
       "      <td>0.000</td>\n",
       "    </tr>\n",
       "  </tbody>\n",
       "</table>\n",
       "</div>"
      ],
      "text/plain": [
       "         costs  proteinPercent  fatPercent  fibrePercent  saltPercent\n",
       "CHICKEN  0.013            0.10        0.08         0.001        0.002\n",
       "BEEF     0.008            0.20        0.10         0.005        0.005\n",
       "MUTTON   0.010            0.15        0.11         0.003        0.007\n",
       "RICE     0.002            0.00        0.01         0.100        0.002\n",
       "WHEAT    0.005            0.04        0.01         0.150        0.008\n",
       "GEL      0.001            0.00        0.00         0.000        0.000"
      ]
     },
     "execution_count": 78,
     "metadata": {},
     "output_type": "execute_result"
    }
   ],
   "source": [
    "data"
   ]
  },
  {
   "cell_type": "code",
   "execution_count": 79,
   "id": "21a95429",
   "metadata": {},
   "outputs": [],
   "source": [
    "#Protein >= 8g\n",
    "\n",
    "#Fat >= 6g\n",
    "\n",
    "#Fibre <= 2g\n",
    "\n",
    "#Salt <= 0.4g"
   ]
  },
  {
   "cell_type": "code",
   "execution_count": 80,
   "id": "520c5e64",
   "metadata": {},
   "outputs": [],
   "source": [
    "chicken = p.LpVariable(\"chicken\", lowBound=0)"
   ]
  },
  {
   "cell_type": "code",
   "execution_count": 81,
   "id": "e404f701",
   "metadata": {},
   "outputs": [
    {
     "data": {
      "text/plain": [
       "Index(['CHICKEN', 'BEEF', 'MUTTON', 'RICE', 'WHEAT', 'GEL'], dtype='object')"
      ]
     },
     "execution_count": 81,
     "metadata": {},
     "output_type": "execute_result"
    }
   ],
   "source": [
    "data.index"
   ]
  },
  {
   "cell_type": "code",
   "execution_count": 82,
   "id": "5f0821ac",
   "metadata": {},
   "outputs": [
    {
     "data": {
      "text/plain": [
       "[CHICKEN, BEEF, MUTTON, RICE, WHEAT, GEL]"
      ]
     },
     "execution_count": 82,
     "metadata": {},
     "output_type": "execute_result"
    }
   ],
   "source": [
    "degisken = []\n",
    "for i in data.index:\n",
    "    degisken.append(p.LpVariable(i, lowBound=0))\n",
    "degisken"
   ]
  },
  {
   "cell_type": "code",
   "execution_count": 105,
   "id": "f9a6d2d5",
   "metadata": {},
   "outputs": [
    {
     "data": {
      "text/html": [
       "<div>\n",
       "<style scoped>\n",
       "    .dataframe tbody tr th:only-of-type {\n",
       "        vertical-align: middle;\n",
       "    }\n",
       "\n",
       "    .dataframe tbody tr th {\n",
       "        vertical-align: top;\n",
       "    }\n",
       "\n",
       "    .dataframe thead th {\n",
       "        text-align: right;\n",
       "    }\n",
       "</style>\n",
       "<table border=\"1\" class=\"dataframe\">\n",
       "  <thead>\n",
       "    <tr style=\"text-align: right;\">\n",
       "      <th></th>\n",
       "      <th>costs</th>\n",
       "      <th>proteinPercent</th>\n",
       "      <th>fatPercent</th>\n",
       "      <th>fibrePercent</th>\n",
       "      <th>saltPercent</th>\n",
       "      <th>variable</th>\n",
       "    </tr>\n",
       "  </thead>\n",
       "  <tbody>\n",
       "    <tr>\n",
       "      <th>CHICKEN</th>\n",
       "      <td>0.013</td>\n",
       "      <td>0.10</td>\n",
       "      <td>0.08</td>\n",
       "      <td>0.001</td>\n",
       "      <td>0.002</td>\n",
       "      <td>CHICKEN</td>\n",
       "    </tr>\n",
       "    <tr>\n",
       "      <th>BEEF</th>\n",
       "      <td>0.008</td>\n",
       "      <td>0.20</td>\n",
       "      <td>0.10</td>\n",
       "      <td>0.005</td>\n",
       "      <td>0.005</td>\n",
       "      <td>BEEF</td>\n",
       "    </tr>\n",
       "    <tr>\n",
       "      <th>MUTTON</th>\n",
       "      <td>0.010</td>\n",
       "      <td>0.15</td>\n",
       "      <td>0.11</td>\n",
       "      <td>0.003</td>\n",
       "      <td>0.007</td>\n",
       "      <td>MUTTON</td>\n",
       "    </tr>\n",
       "    <tr>\n",
       "      <th>RICE</th>\n",
       "      <td>0.002</td>\n",
       "      <td>0.00</td>\n",
       "      <td>0.01</td>\n",
       "      <td>0.100</td>\n",
       "      <td>0.002</td>\n",
       "      <td>RICE</td>\n",
       "    </tr>\n",
       "    <tr>\n",
       "      <th>WHEAT</th>\n",
       "      <td>0.005</td>\n",
       "      <td>0.04</td>\n",
       "      <td>0.01</td>\n",
       "      <td>0.150</td>\n",
       "      <td>0.008</td>\n",
       "      <td>WHEAT</td>\n",
       "    </tr>\n",
       "    <tr>\n",
       "      <th>GEL</th>\n",
       "      <td>0.001</td>\n",
       "      <td>0.00</td>\n",
       "      <td>0.00</td>\n",
       "      <td>0.000</td>\n",
       "      <td>0.000</td>\n",
       "      <td>GEL</td>\n",
       "    </tr>\n",
       "  </tbody>\n",
       "</table>\n",
       "</div>"
      ],
      "text/plain": [
       "         costs  proteinPercent  fatPercent  fibrePercent  saltPercent variable\n",
       "CHICKEN  0.013            0.10        0.08         0.001        0.002  CHICKEN\n",
       "BEEF     0.008            0.20        0.10         0.005        0.005     BEEF\n",
       "MUTTON   0.010            0.15        0.11         0.003        0.007   MUTTON\n",
       "RICE     0.002            0.00        0.01         0.100        0.002     RICE\n",
       "WHEAT    0.005            0.04        0.01         0.150        0.008    WHEAT\n",
       "GEL      0.001            0.00        0.00         0.000        0.000      GEL"
      ]
     },
     "execution_count": 105,
     "metadata": {},
     "output_type": "execute_result"
    }
   ],
   "source": [
    "data[\"variable\"] = degisken\n",
    "data"
   ]
  },
  {
   "cell_type": "code",
   "execution_count": 116,
   "id": "78fb2997",
   "metadata": {},
   "outputs": [
    {
     "data": {
      "text/plain": [
       "0.008*BEEF + 0.013*CHICKEN + 0.001*GEL + 0.01*MUTTON + 0.002*RICE + 0.005*WHEAT + 0.0"
      ]
     },
     "execution_count": 116,
     "metadata": {},
     "output_type": "execute_result"
    }
   ],
   "source": [
    "obj = (data[\"costs\"] * data[\"variable\"]).sum()\n",
    "obj"
   ]
  },
  {
   "cell_type": "code",
   "execution_count": 117,
   "id": "e615ec75",
   "metadata": {},
   "outputs": [],
   "source": [
    "c1 = (data[\"proteinPercent\"] * data[\"variable\"]).sum() >= 8\n",
    "c2 = (data[\"fatPercent\"] * data[\"variable\"]).sum() >= 6\n",
    "c3 = (data[\"fibrePercent\"] * data[\"variable\"]).sum() <= 2\n",
    "c4 = (data[\"saltPercent\"] * data[\"variable\"]).sum() <= 0.4\n",
    "c5 = (data[\"variable\"]).sum() == 100 "
   ]
  },
  {
   "cell_type": "code",
   "execution_count": 108,
   "id": "6062e2d2",
   "metadata": {},
   "outputs": [],
   "source": [
    "problem = p.LpProblem(\"maliyet\", sense=p.LpMinimize)"
   ]
  },
  {
   "cell_type": "code",
   "execution_count": 118,
   "id": "2824ba95",
   "metadata": {},
   "outputs": [
    {
     "name": "stderr",
     "output_type": "stream",
     "text": [
      "C:\\Users\\gold\\miniconda3\\envs\\cg1\\lib\\site-packages\\pulp\\pulp.py:1668: UserWarning: Overwriting previously set objective.\n",
      "  warnings.warn(\"Overwriting previously set objective.\")\n"
     ]
    }
   ],
   "source": [
    "problem += obj"
   ]
  },
  {
   "cell_type": "code",
   "execution_count": 119,
   "id": "7720a0c8",
   "metadata": {},
   "outputs": [],
   "source": [
    "problem += c1\n",
    "problem += c2\n",
    "problem += c3\n",
    "problem += c4\n",
    "problem += c5"
   ]
  },
  {
   "cell_type": "code",
   "execution_count": 120,
   "id": "3e56e2ff",
   "metadata": {},
   "outputs": [
    {
     "data": {
      "text/plain": [
       "1"
      ]
     },
     "execution_count": 120,
     "metadata": {},
     "output_type": "execute_result"
    }
   ],
   "source": [
    "problem.solve()"
   ]
  },
  {
   "cell_type": "code",
   "execution_count": 122,
   "id": "42bb7eb2",
   "metadata": {},
   "outputs": [
    {
     "data": {
      "text/plain": [
       "0.52"
      ]
     },
     "execution_count": 122,
     "metadata": {},
     "output_type": "execute_result"
    }
   ],
   "source": [
    "# min cost\n",
    "obj.value()"
   ]
  },
  {
   "cell_type": "code",
   "execution_count": 123,
   "id": "d5b4e382",
   "metadata": {},
   "outputs": [
    {
     "data": {
      "text/plain": [
       "0.008*BEEF + 0.013*CHICKEN + 0.001*GEL + 0.01*MUTTON + 0.002*RICE + 0.005*WHEAT + 0.0"
      ]
     },
     "execution_count": 123,
     "metadata": {},
     "output_type": "execute_result"
    }
   ],
   "source": [
    "problem.objective"
   ]
  },
  {
   "cell_type": "code",
   "execution_count": 124,
   "id": "53a827d0",
   "metadata": {},
   "outputs": [
    {
     "data": {
      "text/plain": [
       "0.52"
      ]
     },
     "execution_count": 124,
     "metadata": {},
     "output_type": "execute_result"
    }
   ],
   "source": [
    "# min cost\n",
    "problem.objective.value()"
   ]
  },
  {
   "cell_type": "code",
   "execution_count": 128,
   "id": "0207f151",
   "metadata": {},
   "outputs": [
    {
     "name": "stdout",
     "output_type": "stream",
     "text": [
      "CHICKEN : 0.0\n",
      "BEEF : 60.0\n",
      "MUTTON : 0.0\n",
      "RICE : 0.0\n",
      "WHEAT : 0.0\n",
      "GEL : 40.0\n"
     ]
    }
   ],
   "source": [
    "# Each of the variables is printed with it's resolved optimum value\n",
    "for i in range(len(data)):\n",
    "    print(data[\"variable\"][i], \":\", data[\"variable\"][i].value())"
   ]
  }
 ],
 "metadata": {
  "kernelspec": {
   "display_name": "cg1",
   "language": "python",
   "name": "cg1"
  },
  "language_info": {
   "codemirror_mode": {
    "name": "ipython",
    "version": 3
   },
   "file_extension": ".py",
   "mimetype": "text/x-python",
   "name": "python",
   "nbconvert_exporter": "python",
   "pygments_lexer": "ipython3",
   "version": "3.8.12"
  }
 },
 "nbformat": 4,
 "nbformat_minor": 5
}
